{
 "cells": [
  {
   "cell_type": "code",
   "execution_count": 34,
   "id": "62904118",
   "metadata": {},
   "outputs": [
    {
     "data": {
      "text/plain": [
       "'\\nQuestion 1: Are there any oddities that could cause someone problems when using the data to \\n    answer questions? How would you deal with them?\\n\\nAnswer:\\n     - Oddity: First two rows of the raw data file include metadata\\n     - Solution: Delete and move data to metadata file\\n     \\n     - Oddity: Age column sort format is bad in Excel, may be interpreted as String\\n     - Solution: Use PySpark which can be used to infer column types\\n    \\n     - Oddity: Commas in Geography column data\\n     - Solution: Export as CSV puts these into double quotes, and PySpark infers with the read.csv() function\\n    \\n     - Oddity: White Space in the \"Geography code\" column title\\n     - Solution: Handle using the header=True option in the PySpark\\n     \\n     - Oddity: Many Geography codes to a single geography \\n     - Solution: Treat Geography code similar to a zip code. All questions refer to geography,\\n         therefore this column may be ignored\\n    \\n     - Oddity: Age column may contain \"+\"\\n     - Solution: Use PySpark regexp_replace to remove the \"+\", and create a new column of type Bool\\n            to hold the meaning of \"+\"\\n'"
      ]
     },
     "execution_count": 34,
     "metadata": {},
     "output_type": "execute_result"
    }
   ],
   "source": [
    "\"\"\"\n",
    "Question 1: Are there any oddities that could cause someone problems when using the data to \n",
    "    answer questions? How would you deal with them?\n",
    "\n",
    "Answer:\n",
    "     - Oddity: First two rows of the raw data file include metadata\n",
    "     - Solution: Delete and move data to metadata file\n",
    "     \n",
    "     - Oddity: Age column sort format is bad in Excel, may be interpreted as String\n",
    "     - Solution: Use PySpark which can be used to infer column types\n",
    "    \n",
    "     - Oddity: Commas in \"Geography\" row data\n",
    "     - Solution: Export as CSV puts these into double quotes, and PySpark infers with the read.csv() function\n",
    "    \n",
    "     - Oddity: White Space in \"Geography code\" column title\n",
    "     - Solution: Handle using the header=True option in the PySpark\n",
    "     \n",
    "     - Oddity: Many Geography codes to a single geography \n",
    "     - Solution: Treat Geography code similar to a zip code. All questions refer to geography,\n",
    "         therefore this column may be ignored\n",
    "    \n",
    "     - Oddity: Age column may contain \"+\"\n",
    "     - Solution: Use PySpark regexp_replace to remove the \"+\", and create a new column of type Bool\n",
    "            to hold the meaning of \"+\"\n",
    "\"\"\""
   ]
  },
  {
   "cell_type": "code",
   "execution_count": 28,
   "id": "a65a5156",
   "metadata": {},
   "outputs": [],
   "source": [
    "# I will use PySpark for quick and simple data transformations, and Seaborn for data visualizations\n",
    "# You will need to download PySpark, Pandas, and Seaborn\n",
    "from pyspark.sql import SparkSession\n",
    "from pyspark.sql import functions as F\n",
    "from pyspark.sql import Window as W\n",
    "from pyspark.sql.types import IntegerType as Int, BooleanType as Bool, StringType as Str\n",
    "import seaborn as sns\n",
    "\n",
    "# Create a spark object. You can visit the spark ui on localhost:4041 if 4040 is unavailable\n",
    "spark = (SparkSession \n",
    "        .builder \n",
    "        .appName(\"Population Estimates\") \n",
    "        .getOrCreate())\n",
    "\n",
    "# Accept the raw data into a spark dataframe with option header=True\n",
    "# Ignore records with no Geography and Geography Code, \n",
    "# Drop malformed rows with column types that do not confer to schema, and cache the dataframe for speed\n",
    "raw_data_path = \"Local-Data/population_estimates_rawdata.csv\"\n",
    "pop_df = (spark \n",
    "    .read \n",
    "    .option(\"header\", \"True\") \n",
    "    .csv(raw_data_path, inferSchema=True, mode=\"DROPMALFORMED\") \n",
    "    .dropna(how=\"any\", subset=[\"Geography\", \"Geography code\"]) \n",
    "    .cache())\n",
    "\n",
    "# Clean the dataframe by preserving the meaning of + as a new boolean column age >= 90 using a UDF\n",
    "above_90 = F.udf(lambda age: True if age >= 90 else False, Bool())\n",
    "\n",
    "# After data is cleaned, I can answer the questions\n",
    "cleaned_pop_df = (pop_df \n",
    "    .withColumn(\"Age\", F.regexp_replace(\"Age\", \"\\+\", \"\").cast(Int())) \n",
    "    .withColumn(\"Above 90\", above_90(\"Age\")))"
   ]
  },
  {
   "cell_type": "code",
   "execution_count": 29,
   "id": "e96a8f92",
   "metadata": {},
   "outputs": [
    {
     "name": "stderr",
     "output_type": "stream",
     "text": [
      "21/09/07 01:01:35 WARN CacheManager: Asked to cache already cached data.\n"
     ]
    }
   ],
   "source": []
  },
  {
   "cell_type": "code",
   "execution_count": 30,
   "id": "cb01a539",
   "metadata": {},
   "outputs": [],
   "source": [
    "\n"
   ]
  },
  {
   "cell_type": "code",
   "execution_count": 31,
   "id": "23f85cdc",
   "metadata": {
    "scrolled": false
   },
   "outputs": [
    {
     "name": "stdout",
     "output_type": "stream",
     "text": [
      "+----------------------------------------+----+\n",
      "|Geography With Smallest Total Population|2013|\n",
      "+----------------------------------------+----+\n",
      "|                         Isles of Scilly|2232|\n",
      "+----------------------------------------+----+\n",
      "\n",
      "+----------------------------------------+----+\n",
      "|Geography With Smallest Total Population|2014|\n",
      "+----------------------------------------+----+\n",
      "|                         Isles of Scilly|2280|\n",
      "+----------------------------------------+----+\n",
      "\n",
      "+----------------------------------------+----+\n",
      "|Geography With Smallest Total Population|2015|\n",
      "+----------------------------------------+----+\n",
      "|                         Isles of Scilly|2324|\n",
      "+----------------------------------------+----+\n",
      "\n",
      "+----------------------------------------+----+\n",
      "|Geography With Smallest Total Population|2016|\n",
      "+----------------------------------------+----+\n",
      "|                         Isles of Scilly|2308|\n",
      "+----------------------------------------+----+\n",
      "\n"
     ]
    }
   ],
   "source": [
    "\"\"\"\n",
    "Question 2: Which geography contained the smallest total population in each year from 2013 to 2016?\n",
    "\"\"\"\n",
    "\n",
    "# Sum populations grouped by Geography for each year (using subquery on total_pop_by_geo table)\n",
    "total_pop_by_geo = (cleaned_pop_df \n",
    "    .select(\"Geography\", \"2013\", \"2014\", \"2015\", \"2016\") \n",
    "    .where(\"Sex in ('All')\") \n",
    "    .groupBy(\"Geography\") \n",
    "    .agg(F.sum(\"2013\").alias(\"2013\"), F.sum(\"2014\").alias(\"2014\"), F.sum(\"2015\").alias(\"2015\"), F.sum(\"2016\").alias(\"2016\")))\n",
    "\n",
    "# 2013 Geography With Smallest Total Population\n",
    "(total_pop_by_geo \n",
    "    .select(\"Geography\", \"2013\")\n",
    "    .withColumnRenamed(\"Geography\", \"Geography With Smallest Total Population\")\n",
    "    .where(F.col(\"2013\") == total_pop_by_geo.select(F.min('2013')).head()[0]) \n",
    "    .show())\n",
    "\n",
    "# 2014 Geography With Smallest Total Population\n",
    "(total_pop_by_geo \n",
    "    .select(\"Geography\", \"2014\") \n",
    "    .withColumnRenamed(\"Geography\", \"Geography With Smallest Total Population\")\n",
    "    .where(F.col(\"2014\") == total_pop_by_geo.select(F.min('2014')).head()[0]) \n",
    "    .show())\n",
    "\n",
    "# 2015 Geography With Smallest Total Population\n",
    "(total_pop_by_geo \n",
    "    .select(\"Geography\", \"2015\") \n",
    "    .withColumnRenamed(\"Geography\", \"Geography With Smallest Total Population\")\n",
    "    .where(F.col(\"2015\") == total_pop_by_geo.select(F.min('2015')).head()[0]) \n",
    "    .show())\n",
    "\n",
    "# 2016 Geography With Smallest Total Population\n",
    "(total_pop_by_geo \n",
    "    .select(\"Geography\", \"2016\") \n",
    "    .withColumnRenamed(\"Geography\", \"Geography With Smallest Total Population\")\n",
    "    .where(F.col(\"2016\") == total_pop_by_geo.select(F.min('2016')).head()[0]) \n",
    "    .show())"
   ]
  },
  {
   "cell_type": "code",
   "execution_count": 32,
   "id": "3473e356",
   "metadata": {},
   "outputs": [
    {
     "name": "stdout",
     "output_type": "stream",
     "text": [
      "+-----------------------------------------------+-----------------+\n",
      "|Geography With The Highest Female-To-Male Ratio|            Ratio|\n",
      "+-----------------------------------------------+-----------------+\n",
      "|                                       Knowsley|1.103591279555338|\n",
      "+-----------------------------------------------+-----------------+\n",
      "\n"
     ]
    },
    {
     "name": "stderr",
     "output_type": "stream",
     "text": [
      "21/09/07 01:01:55 WARN WindowExec: No Partition Defined for Window operation! Moving all data to a single partition, this can cause serious performance degradation.\n"
     ]
    }
   ],
   "source": [
    "\"\"\"\n",
    "Question 3.1: Which geography had the highest female-to-male ratio in 2013, and what was the ratio?\n",
    "\"\"\"\n",
    "\n",
    "# Pivot Sex, and compute sum(Females) / sum(Males) for each geography in 2013\n",
    "# Order descending and show the top value, which is the highest F-M ratio\n",
    "(cleaned_pop_df \n",
    "    .select(\"Geography\", \"Sex\", \"2013\") \n",
    "    .groupBy(\"Geography\") \n",
    "    .pivot(\"Sex\") \n",
    "    .sum() \n",
    "    .withColumn(\"Ratio\", F.col(\"Female\") / F.col(\"Male\"))\n",
    "    .withColumn(\"Highest\", F.rank().over(W.orderBy(F.desc(\"Ratio\"))))\n",
    "    .select(\"Geography\", \"Ratio\") \n",
    "    .where(\"Highest == 1\")\n",
    "    .withColumnRenamed(\"Geography\", \"Geography With The Highest Female-To-Male Ratio\") \n",
    "    .show())"
   ]
  },
  {
   "cell_type": "code",
   "execution_count": 33,
   "id": "102f0f56",
   "metadata": {
    "scrolled": true
   },
   "outputs": [
    {
     "name": "stderr",
     "output_type": "stream",
     "text": [
      "21/09/07 01:02:11 WARN WindowExec: No Partition Defined for Window operation! Moving all data to a single partition, this can cause serious performance degradation.\n"
     ]
    },
    {
     "name": "stdout",
     "output_type": "stream",
     "text": [
      "+-------------------------------+------------------+\n",
      "|Geography That Changed The Most|2013 vs 2016 Delta|\n",
      "+-------------------------------+------------------+\n",
      "|                          Moray|0.0674442377540787|\n",
      "+-------------------------------+------------------+\n",
      "\n",
      "+--------------------------------+-------------------+\n",
      "|Geography That Changed The Least| 2013 vs 2016 Delta|\n",
      "+--------------------------------+-------------------+\n",
      "|                      Winchester|3.11390344611695E-5|\n",
      "+--------------------------------+-------------------+\n",
      "\n"
     ]
    },
    {
     "name": "stderr",
     "output_type": "stream",
     "text": [
      "21/09/07 01:02:11 WARN WindowExec: No Partition Defined for Window operation! Moving all data to a single partition, this can cause serious performance degradation.\n"
     ]
    }
   ],
   "source": [
    "\"\"\"\n",
    "Question 3.2: Comparing each geography's female-to-male ratio measurements in 2013 vs 2016, which \n",
    "    changed the most? Which changed the least?\n",
    "\"\"\"\n",
    "\n",
    "# Pivot Sex for 2013 and 2016, create columns with 2013 F-M Ratio, 2016 F-M Ratio, and the Delta\n",
    "pop_ratio_delta_df = (cleaned_pop_df \n",
    "    .select(\"Geography\", \"Sex\", \"2013\", \"2016\") \n",
    "    .groupBy(\"Geography\") \n",
    "    .pivot(\"Sex\") \n",
    "    .sum(\"2013\", \"2016\") \n",
    "    .withColumn(\"2013 Ratio\", F.col(\"Female_sum(2013)\") / F.col(\"Male_sum(2013)\")) \n",
    "    .withColumn(\"2016 Ratio\", F.col(\"Female_sum(2016)\") / F.col(\"Male_sum(2016)\")) \n",
    "    .withColumn(\"2013 vs 2016 Delta\", F.abs(F.col(\"2013 Ratio\") - F.col(\"2016 Ratio\")))\n",
    "    .withColumn(\"Largest\", F.rank().over(W.orderBy(F.desc(\"2013 vs 2016 Delta\"))))\n",
    "    .withColumn(\"Smallest\", F.rank().over(W.orderBy(F.asc(\"2013 vs 2016 Delta\")))))\n",
    "\n",
    "# Most change would be largest ratio delta\n",
    "(pop_ratio_delta_df \n",
    "    .select(\"Geography\", \"2013 vs 2016 Delta\") \n",
    "    .where(\"Largest == 1\")\n",
    "    .withColumnRenamed(\"Geography\", \"Geography That Changed The Most\") \n",
    "    .show())\n",
    "\n",
    "# Least change would be lowest ratio delta\n",
    "(pop_ratio_delta_df \n",
    "    .select(\"Geography\", \"2013 vs 2016 Delta\")\n",
    "    .where(\"Smallest == 1\")\n",
    "    .withColumnRenamed(\"Geography\", \"Geography That Changed The Least\") \n",
    "    .show())\n"
   ]
  },
  {
   "cell_type": "code",
   "execution_count": 111,
   "id": "12a95faa",
   "metadata": {
    "scrolled": true
   },
   "outputs": [
    {
     "data": {
      "text/plain": [
       "<seaborn.axisgrid.FacetGrid at 0x7f68bc378a60>"
      ]
     },
     "execution_count": 111,
     "metadata": {},
     "output_type": "execute_result"
    },
    {
     "data": {
      "image/png": "[encoded data removed]",
      "text/plain": [
       "<Figure size 432.125x360 with 1 Axes>"
      ]
     },
     "metadata": {
      "needs_background": "light"
     },
     "output_type": "display_data"
    }
   ],
   "source": [
    "\"\"\"\n",
    "Plot a visualization of the 2016 age distribution split out by sex\n",
    "\"\"\"\n",
    "# First, we calculate the distribution by Sex and Age in 2016, and convert to a pandas dataframe\n",
    "age_dist_2016_pandas_df = (cleaned_pop_df \n",
    "    .select(\"Age\", \"Sex\", \"2016\") \n",
    "    .where(\"Sex in ('Male', 'Female')\") \n",
    "    .groupBy(\"Age\", \"Sex\") \n",
    "    .agg(F.sum(\"2016\").alias(\"Total Pop 2016 (in millions)\")))\n",
    "\n",
    "# Second, I use seaborn to perform catplot to 'split-out' Male dist and Female dist\n",
    "(sns.catplot(data=age_dist_2016_pandas_df.toPandas(), x='Age', y='Total Pop 2016 (in millions)', hue='Sex')\n",
    "    .set(title='2016 Age Distribution Split Out By Sex'))"
   ]
  },
  {
   "cell_type": "code",
   "execution_count": null,
   "id": "7c8b7521",
   "metadata": {},
   "outputs": [],
   "source": [
    "\"\"\"\n",
    "Question 4.1: What are the anomalies? Describe the factors that could account for anomalies.\n",
    "\n",
    "Answer:\n",
    "    - Anomaly 1: 90 year olds \n",
    "    - Factors: This is because we are lumping all 90+ into one Age bin\n",
    "\n",
    "    - Anomaly 2: Massive spike in population Age around 75 during a steady decline in population in this Age range\n",
    "    - Factors: Older people who want to retire probably go to these places because they are peaceful\n",
    "\n",
    "    - Anomaly 3: Dips in teen and mid-life years\n",
    "    - Factors: People leave these areas to travel other parts of the world\n",
    "\"\"\""
   ]
  },
  {
   "cell_type": "code",
   "execution_count": 138,
   "id": "8f4ea99f",
   "metadata": {
    "scrolled": true
   },
   "outputs": [
    {
     "name": "stdout",
     "output_type": "stream",
     "text": [
      "+------------------------------------------+---------------------+\n",
      "|Geography with Particularly Low Proportion|Proportion > 65: 2013|\n",
      "+------------------------------------------+---------------------+\n",
      "|                            Waltham Forest|  0.09453078853410686|\n",
      "|                      Barking and Dagenham|   0.0943442825388985|\n",
      "|                      Hammersmith and F...|  0.09062316366790721|\n",
      "|                                Manchester|  0.08836410927321608|\n",
      "|                                  Lewisham|  0.08807044517436578|\n",
      "|                                    Slough|   0.0866358093746504|\n",
      "|                                Wandsworth|  0.08472993340117739|\n",
      "|                                  Haringey|  0.08380855474474726|\n",
      "|                                 Islington|  0.08198135122478219|\n",
      "|                                 Southwark|  0.07302698808905567|\n",
      "|                                   Lambeth|  0.07178543924745896|\n",
      "|                                   Hackney|  0.06610484926897688|\n",
      "|                                    Newham|   0.0636715300713013|\n",
      "|                             Tower Hamlets| 0.056858074682106345|\n",
      "+------------------------------------------+---------------------+\n",
      "\n",
      "+-------------------------------------------+---------------------+\n",
      "|Geography with Particularly High Proportion|Proportion > 65: 2013|\n",
      "+-------------------------------------------+---------------------+\n",
      "|                               Christchurch|  0.29374793251736686|\n",
      "|                              West Somerset|   0.2916958041958042|\n",
      "|                              North Norfolk|  0.28765592999441447|\n",
      "|                                     Rother|  0.28494080435785357|\n",
      "|                                East Dorset|  0.27965050796937396|\n",
      "|                                 East Devon|   0.2766164064700737|\n",
      "|                                   Tendring|  0.26895711536104844|\n",
      "|                                West Dorset|   0.2639513726431128|\n",
      "|                                       Arun|   0.2594720517216558|\n",
      "|                               East Lindsey|   0.2589696513082342|\n",
      "|                                     Dorset|    0.252171116886358|\n",
      "|                                 New Forest|   0.2509631476676663|\n",
      "+-------------------------------------------+---------------------+\n",
      "\n",
      "+------------------------------------------+---------------------+\n",
      "|Geography with Particularly Low Proportion|Proportion > 65: 2016|\n",
      "+------------------------------------------+---------------------+\n",
      "|                      Hammersmith and F...|   0.0982778006612711|\n",
      "|                                 Greenwich|   0.0971418971569097|\n",
      "|                            Waltham Forest|  0.09630478206806045|\n",
      "|                      Barking and Dagenham|  0.08970744938486874|\n",
      "|                                    Slough|  0.08955639654574979|\n",
      "|                                Wandsworth|   0.0881978892488358|\n",
      "|                                  Haringey|  0.08690936645944888|\n",
      "|                                  Lewisham|  0.08673687418631384|\n",
      "|                                Manchester|  0.08670276741620986|\n",
      "|                                 Islington|  0.08248985463680673|\n",
      "|                                 Southwark|  0.07471354274749939|\n",
      "|                                   Lambeth|   0.0732365588118691|\n",
      "|                                   Hackney|  0.06748535788188326|\n",
      "|                                    Newham|   0.0660658458903507|\n",
      "|                             Tower Hamlets|  0.05574471714328826|\n",
      "+------------------------------------------+---------------------+\n",
      "\n",
      "+-------------------------------------------+---------------------+\n",
      "|Geography with Particularly High Proportion|Proportion > 65: 2016|\n",
      "+-------------------------------------------+---------------------+\n",
      "|                              West Somerset|   0.3160088614236577|\n",
      "|                              North Norfolk|   0.3039459480299175|\n",
      "|                               Christchurch|  0.30031729350659847|\n",
      "|                                     Rother|   0.2994837040758517|\n",
      "|                                East Dorset|  0.29546653496907727|\n",
      "|                                 East Devon|   0.2853375075049318|\n",
      "|                                West Dorset|   0.2827129076167367|\n",
      "|                                   Tendring|  0.28081740276862227|\n",
      "|                               East Lindsey|   0.2766987135499809|\n",
      "|                                       Arun|  0.27144467728682714|\n",
      "|                                     Dorset|    0.268707700241527|\n",
      "+-------------------------------------------+---------------------+\n",
      "\n"
     ]
    }
   ],
   "source": [
    "\"\"\"\n",
    "Geographies which have a \"particularly high or low\" proportion of over 65s between 2013-2016\n",
    "\"\"\"\n",
    "\n",
    "# To be aggregated when total pop is aggregated\n",
    "above_65 = F.udf(lambda age, pop: pop if age > 65 else 0, Int())\n",
    "\n",
    "# Displays positive or negative change between proportions\n",
    "direction = F.udf(lambda prop_2016, prop_2013: \"+\" if prop_2016 - prop_2013 >= 0 else \"-\", Str())\n",
    "\n",
    "# Calculate the Proportion of Age > 65 for 2013 vs 2016, and direction for Positive and Negative change\n",
    "pop_statistics_df = (cleaned_pop_df \n",
    "    .select(\"Geography\", \"Age\", \"2013\", \"2016\") \n",
    "    .where(\"Sex in ('All')\")\n",
    "    .withColumn(\"Older Pop 2013\", above_65(\"Age\", \"2013\"))\n",
    "    .withColumn(\"Older Pop 2016\", above_65(\"Age\", \"2016\"))\n",
    "    .groupBy(\"Geography\") \n",
    "    .agg(F.sum(\"2013\"), F.sum(\"Older Pop 2013\"),\n",
    "         F.sum(\"2016\"), F.sum(\"Older Pop 2016\"))\n",
    "    .withColumn(\"Proportion > 65: 2013\", F.col(\"sum(Older Pop 2013)\") / F.col(\"sum(2013)\"))\n",
    "    .withColumn(\"Proportion > 65: 2016\", F.col(\"sum(Older Pop 2016)\") / F.col(\"sum(2016)\"))\n",
    "    .withColumn(\"2013 vs 2016\", F.abs(F.col(\"Proportion > 65: 2016\") - F.col(\"Proportion > 65: 2013\")))\n",
    "    .withColumn(\"Direction\", direction(\"Proportion > 65: 2016\", \"Proportion > 65: 2013\")))\n",
    "\n",
    "# I calculate the mean and stddev of the Proportion > 65: 2013\n",
    "# I create new columns with \"particularly low\" and \"particularly high\" values using two stddevs left and right\n",
    "summary = (pop_statistics_df\n",
    "    .select(F.mean(\"Proportion > 65: 2013\").alias(\"mean\"), F.stddev(\"Proportion > 65: 2013\").alias(\"stddev\"))\n",
    "    .withColumn(\"Two Deviations Right\", F.col(\"mean\") + (F.col(\"stddev\") * 2))\n",
    "    .withColumn(\"Two Deviations Left\", F.col(\"mean\") - (F.col(\"stddev\") * 2)))\n",
    "\n",
    "# Geographys with particularly low proportion of over-65's (2 standard deviations left)\n",
    "(pop_statistics_df\n",
    "    .select(\"Geography\", \"Proportion > 65: 2013\")\n",
    "    .where(F.col(\"Proportion > 65: 2013\") < summary.select(\"Two Deviations Left\").head()[0])\n",
    "    .withColumnRenamed(\"Geography\", \"Geography with Particularly Low Proportion\")\n",
    "    .orderBy(F.desc(\"Proportion > 65: 2013\"))\n",
    "    .show())\n",
    "\n",
    "# Geographys with particularly high proportion of over-65's (2 standard deviations right)\n",
    "(pop_statistics_df\n",
    "    .select(\"Geography\", \"Proportion > 65: 2013\")\n",
    "    .where(F.col(\"Proportion > 65: 2013\") > summary.select(\"Two Deviations Right\").head()[0])\n",
    "    .withColumnRenamed(\"Geography\", \"Geography with Particularly High Proportion\")\n",
    "    .orderBy(F.desc(\"Proportion > 65: 2013\"))\n",
    "    .show())\n",
    "\n",
    "# Repeat for 2016\n",
    "summary = (pop_statistics_df\n",
    "    .select(F.mean(\"Proportion > 65: 2016\").alias(\"mean\"), F.stddev(\"Proportion > 65: 2016\").alias(\"stddev\"))\n",
    "    .withColumn(\"Two Deviations Right\", F.col(\"mean\")+(F.col(\"stddev\")*2))\n",
    "    .withColumn(\"Two Deviations Left\", F.col(\"mean\")-(F.col(\"stddev\")*2)))\n",
    "\n",
    "(pop_statistics_df\n",
    "    .select(\"Geography\", \"Proportion > 65: 2016\")\n",
    "    .where(F.col(\"Proportion > 65: 2016\") < summary.select(\"Two Deviations Left\").head()[0])\n",
    "    .withColumnRenamed(\"Geography\", \"Geography with Particularly Low Proportion\")\n",
    "    .orderBy(F.desc(\"Proportion > 65: 2016\"))\n",
    "    .show())\n",
    "\n",
    "(pop_statistics_df\n",
    "    .select(\"Geography\", \"Proportion > 65: 2016\")\n",
    "    .where(F.col(\"Proportion > 65: 2016\") > summary.select(\"Two Deviations Right\").head()[0])\n",
    "    .withColumnRenamed(\"Geography\", \"Geography with Particularly High Proportion\")\n",
    "    .orderBy(F.desc(\"Proportion > 65: 2016\"))\n",
    "    .show())"
   ]
  },
  {
   "cell_type": "code",
   "execution_count": 137,
   "id": "54cffe65",
   "metadata": {
    "scrolled": true
   },
   "outputs": [
    {
     "name": "stdout",
     "output_type": "stream",
     "text": [
      "+--------------------+-----------------------------------------------+\n",
      "|           Geography|Increasing Proportion of Age > 65: 2013 vs 2016|\n",
      "+--------------------+-----------------------------------------------+\n",
      "|Dumfries and Gall...|                            0.07208544091035043|\n",
      "|            Highland|                            0.06962852077652606|\n",
      "|       Monmouthshire|                            0.05305590272924127|\n",
      "|         Eilean Siar|                            0.05064590881083439|\n",
      "|   Rhondda Cynon Taf|                           0.050216794547647436|\n",
      "|   East Renfrewshire|                           0.046645669795442296|\n",
      "|               Powys|                           0.038463061258291215|\n",
      "| East Dunbartonshire|                           0.030429908776102188|\n",
      "|       Pembrokeshire|                            0.03036034444663252|\n",
      "+--------------------+-----------------------------------------------+\n",
      "\n",
      "+----------------+-----------------------------------------------+\n",
      "|       Geography|Decreasing Proportion of Age > 65: 2013 vs 2016|\n",
      "+----------------+-----------------------------------------------+\n",
      "|         Cardiff|                            0.05155003345693218|\n",
      "|    Glasgow City|                             0.0465642190497938|\n",
      "|         Falkirk|                           0.042535422389496536|\n",
      "|Clackmannanshire|                           0.037576608053153104|\n",
      "+----------------+-----------------------------------------------+\n",
      "\n"
     ]
    }
   ],
   "source": [
    "\"\"\"\n",
    "Geographies which show the \"largest\" change in proportion of over-65s between 2013 and 2016\n",
    "\"\"\"\n",
    "\n",
    "# I calculate the mean and stddev of the 2013 vs 2016 Proportion > 65\n",
    "# I create a new column with \"large\" values two stddev to the right\n",
    "    .select(F.mean(\"2013 vs 2016\").alias(\"mean\"), F.stddev(\"2013 vs 2016\").alias(\"stddev\"))\n",
    "    .withColumn(\"Two Deviations Right\", F.col(\"mean\") + (F.col(\"stddev\") * 2)))\n",
    "\n",
    "# Largest Increasing (Direction = '+') Proportion 2013 vs 2016 (more older people)\n",
    "(pop_statistics_df\n",
    "    .select(\"Geography\", \"2013 vs 2016\")\n",
    "    .where(\"Direction in ('+')\")\n",
    "    .where(F.col(\"2013 vs 2016\") > summary.select(\"Two Deviations Right\").head()[0])\n",
    "    .orderBy(F.desc(\"2013 vs 2016\"))\n",
    "    .withColumnRenamed(\"2013 vs 2016\", \"Increasing Proportion of Age > 65: 2013 vs 2016\")\n",
    "    .show())\n",
    "\n",
    "# Largest Decreasing (Direction = '-') Proportion 2013 vs 2016 (less older people)\n",
    "(pop_statistics_df\n",
    "    .select(\"Geography\", \"2013 vs 2016\")\n",
    "    .where(\"Direction in ('-')\")\n",
    "    .where(F.col(\"2013 vs 2016\") > summary.select(\"Two Deviations Right\").head()[0])\n",
    "    .orderBy(F.desc(\"2013 vs 2016\"))\n",
    "    .withColumnRenamed(\"2013 vs 2016\", \"Decreasing Proportion of Age > 65: 2013 vs 2016\")\n",
    "    .show())"
   ]
  },
  {
   "cell_type": "code",
   "execution_count": null,
   "id": "b3b7f074",
   "metadata": {},
   "outputs": [],
   "source": [
    "\"\"\"\n",
    "Question 4.5: Are your numerical results realistic? What factors could explain the outliers?\n",
    "Answer:\n",
    "    Yes, because there are more increasing than decreasing. I believe my numerical results are realistic. \n",
    "    This is because densely populated cities such as Cambridge or City of London\n",
    "    are not changing in proportion as much as much smaller cities.\n",
    "\"\"\""
   ]
  }
 ],
 "metadata": {
  "kernelspec": {
   "display_name": "Python 3 (ipykernel)",
   "language": "python",
   "name": "python3"
  },
  "language_info": {
   "codemirror_mode": {
    "name": "ipython",
    "version": 3
   },
   "file_extension": ".py",
   "mimetype": "text/x-python",
   "name": "python",
   "nbconvert_exporter": "python",
   "pygments_lexer": "ipython3",
   "version": "3.8.10"
  }
 },
 "nbformat": 4,
 "nbformat_minor": 5
}

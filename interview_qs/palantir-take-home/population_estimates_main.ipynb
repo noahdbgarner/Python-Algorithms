{
 "cells": [
  {
   "cell_type": "code",
   "execution_count": 3,
   "id": "62904118",
   "metadata": {},
   "outputs": [
    {
     "data": {
      "text/plain": [
       "'\\nQuestion 1: Are there any oddities that could cause someone problems when using the data to \\nanswer questions? How would you deal with them?\\n\\nAnswer: \\n'"
      ]
     },
     "execution_count": 3,
     "metadata": {},
     "output_type": "execute_result"
    }
   ],
   "source": [
    "\"\"\"\n",
    "Question 1: Are there any oddities that could cause someone problems when using the data to \n",
    "answer questions? How would you deal with them?\n",
    "\n",
    "Answer: \n",
    "\"\"\""
   ]
  },
  {
   "cell_type": "code",
   "execution_count": 1,
   "id": "a65a5156",
   "metadata": {},
   "outputs": [
    {
     "name": "stderr",
     "output_type": "stream",
     "text": [
      "21/09/03 23:56:51 WARN Utils: Your hostname, DESKTOP-BUTVPC5 resolves to a loopback address: 127.0.1.1; using 172.28.241.207 instead (on interface eth0)\n",
      "21/09/03 23:56:51 WARN Utils: Set SPARK_LOCAL_IP if you need to bind to another address\n",
      "WARNING: An illegal reflective access operation has occurred\n",
      "WARNING: Illegal reflective access by org.apache.spark.unsafe.Platform (file:/usr/local/lib/python3.8/dist-packages/pyspark/jars/spark-unsafe_2.12-3.1.2.jar) to constructor java.nio.DirectByteBuffer(long,int)\n",
      "WARNING: Please consider reporting this to the maintainers of org.apache.spark.unsafe.Platform\n",
      "WARNING: Use --illegal-access=warn to enable warnings of further illegal reflective access operations\n",
      "WARNING: All illegal access operations will be denied in a future release\n",
      "21/09/03 23:56:53 WARN NativeCodeLoader: Unable to load native-hadoop library for your platform... using builtin-java classes where applicable\n",
      "Using Spark's default log4j profile: org/apache/spark/log4j-defaults.properties\n",
      "Setting default log level to \"WARN\".\n",
      "To adjust logging level use sc.setLogLevel(newLevel). For SparkR, use setLogLevel(newLevel).\n",
      "21/09/03 23:56:53 WARN Utils: Service 'SparkUI' could not bind on port 4040. Attempting port 4041.\n"
     ]
    }
   ],
   "source": [
    "\"\"\"\n",
    "Start Data Prep\n",
    "\"\"\"\n",
    "\n",
    "# Import libraries\n",
    "from pyspark.sql import SparkSession\n",
    "from pyspark.sql import functions as F\n",
    "from pyspark.sql.types import IntegerType as Int, BooleanType as Bool\n",
    "import seaborn as sns\n",
    "\n",
    "# Create a spark object. You can visit the spark ui on localhost:4041 if 4040 is unavailable\n",
    "spark = SparkSession \\\n",
    "        .builder \\\n",
    "        .appName(\"population_estimates\") \\\n",
    "        .getOrCreate()"
   ]
  },
  {
   "cell_type": "code",
   "execution_count": 2,
   "id": "e96a8f92",
   "metadata": {},
   "outputs": [],
   "source": [
    "# Accept the raw data into a spark dataframe\n",
    "# Ignore records with no Geography and Geography Code, \n",
    "# Drop malformed that do not confer to schema, and cache the dataframe in memory for speed\n",
    "raw_data_path = \"Local-Data/population_estimates_rawdata.csv\"\n",
    "pop_df = spark \\\n",
    "    .read \\\n",
    "    .option(\"header\", \"True\") \\\n",
    "    .csv(raw_data_path, inferSchema=True, mode=\"DROPMALFORMED\") \\\n",
    "    .dropna(how=\"any\", subset=[\"Geography\", \"Geography code\"]) \\\n",
    "    .cache()"
   ]
  },
  {
   "cell_type": "code",
   "execution_count": 3,
   "id": "cb01a539",
   "metadata": {},
   "outputs": [
    {
     "data": {
      "text/plain": [
       "'\\nEnd Data Prep\\n'"
      ]
     },
     "execution_count": 3,
     "metadata": {},
     "output_type": "execute_result"
    }
   ],
   "source": [
    "# Clean the dataframe. Preserve the meaning of + by adding a new boolean column age >= 90 with a UDF\n",
    "@F.udf(returnType=Bool())\n",
    "def is_above_ninety(age_string):\n",
    "    if age_string >= 90:\n",
    "        return True\n",
    "    return False\n",
    "\n",
    "cleaned_pop_df = pop_df \\\n",
    "    .withColumn(\"Age\", F.regexp_replace(\"Age\", \"\\+\", \"\").cast(Int())) \\\n",
    "    .withColumn(\"Above 90\", is_above_ninety(\"Age\"))\n",
    "\n",
    "\"\"\"\n",
    "End Data Prep\n",
    "\"\"\""
   ]
  },
  {
   "cell_type": "code",
   "execution_count": 4,
   "id": "23f85cdc",
   "metadata": {
    "scrolled": false
   },
   "outputs": [
    {
     "name": "stdout",
     "output_type": "stream",
     "text": [
      "+---------------+----+\n",
      "|      Geography|2013|\n",
      "+---------------+----+\n",
      "|Isles of Scilly|2232|\n",
      "+---------------+----+\n",
      "\n",
      "+---------------+----+\n",
      "|      Geography|2014|\n",
      "+---------------+----+\n",
      "|Isles of Scilly|2280|\n",
      "+---------------+----+\n",
      "\n",
      "+---------------+----+\n",
      "|      Geography|2015|\n",
      "+---------------+----+\n",
      "|Isles of Scilly|2324|\n",
      "+---------------+----+\n",
      "\n",
      "+---------------+----+\n",
      "|      Geography|2016|\n",
      "+---------------+----+\n",
      "|Isles of Scilly|2308|\n",
      "+---------------+----+\n",
      "\n"
     ]
    }
   ],
   "source": [
    "\"\"\"\n",
    "Question 2: Which geography contained the smallest total population in each year from 2013 to 2016?\n",
    "\"\"\"\n",
    "\n",
    "# Sum populations grouped by Geography for each year\n",
    "total_pop_by_geo = cleaned_pop_df \\\n",
    "    .select(\"Geography\", \"2013\", \"2014\", \"2015\", \"2016\") \\\n",
    "    .where(\"Sex in ('All')\") \\\n",
    "    .groupBy(\"Geography\") \\\n",
    "    .agg(F.sum(\"2013\").alias(\"2013\"), F.sum(\"2014\").alias(\"2014\"), F.sum(\"2015\").alias(\"2015\"), F.sum(\"2016\").alias(\"2016\"))\n",
    "\n",
    "# Select(F.min(year)).head(n=1)[0] returns the minimum value, psuedo subquery, for each year\n",
    "# 2013 minimum\n",
    "total_pop_by_geo \\\n",
    "    .select(\"Geography\", \"2013\") \\\n",
    "    .where(F.col(\"2013\") == total_pop_by_geo.select(F.min('2013')).head()[0]) \\\n",
    "    .show()\n",
    "# 2014 minimum\n",
    "total_pop_by_geo \\\n",
    "    .select(\"Geography\", \"2014\") \\\n",
    "    .where(F.col(\"2014\") == total_pop_by_geo.select(F.min('2014')).head()[0]) \\\n",
    "    .show()\n",
    "# 2015 minimum\n",
    "total_pop_by_geo \\\n",
    "    .select(\"Geography\", \"2015\") \\\n",
    "    .where(F.col(\"2015\") == total_pop_by_geo.select(F.min('2015')).head()[0]) \\\n",
    "    .show()\n",
    "# 2016 minimum\n",
    "total_pop_by_geo \\\n",
    "    .select(\"Geography\", \"2016\") \\\n",
    "    .where(F.col(\"2016\") == total_pop_by_geo.select(F.min('2016')).head()[0]) \\\n",
    "    .show()\n",
    "\n",
    "# Lowest Pop in 2013: Isles of Scilly\n",
    "# Lowest Pop in 2014: Isles of Scilly\n",
    "# Lowest Pop in 2015: Isles of Scilly\n",
    "# Lowest Pop in 2016: Isles of Scilly\n"
   ]
  },
  {
   "cell_type": "code",
   "execution_count": 5,
   "id": "3473e356",
   "metadata": {},
   "outputs": [
    {
     "name": "stdout",
     "output_type": "stream",
     "text": [
      "+---------+-----------------+\n",
      "|Geography|            Ratio|\n",
      "+---------+-----------------+\n",
      "| Knowsley|1.103591279555338|\n",
      "+---------+-----------------+\n",
      "\n"
     ]
    }
   ],
   "source": [
    "\"\"\"\n",
    "Question 3.1: Which geography had the highest female-to-male ratio in 2013, and what was the ratio?\n",
    "\"\"\"\n",
    "\n",
    "# Pivot Sex, and compute sum(Females) / sum(Males) for each geography in 2013\n",
    "# Order descending and show the top value, which is the highest F-M ratio\n",
    "cleaned_pop_df \\\n",
    "    .select(\"Geography\", \"Sex\", \"2013\") \\\n",
    "    .groupBy(\"Geography\") \\\n",
    "    .pivot(\"Sex\") \\\n",
    "    .sum() \\\n",
    "    .withColumn(\"Ratio\", F.col(\"Female\") / F.col(\"Male\")) \\\n",
    "    .select(\"Geography\", \"Ratio\") \\\n",
    "    .orderBy(F.desc(\"Ratio\")) \\\n",
    "    .limit(1) \\\n",
    "    .show()\n",
    "\n",
    "# Highest female-to-male ratio in 2013: Knowsley with ~1.10359127"
   ]
  },
  {
   "cell_type": "code",
   "execution_count": 6,
   "id": "102f0f56",
   "metadata": {
    "scrolled": true
   },
   "outputs": [
    {
     "name": "stdout",
     "output_type": "stream",
     "text": [
      "+---------+------------------+\n",
      "|Geography|2013 vs 2016 Delta|\n",
      "+---------+------------------+\n",
      "|    Moray|0.0674442377540787|\n",
      "+---------+------------------+\n",
      "\n",
      "+----------+-------------------+\n",
      "| Geography| 2013 vs 2016 Delta|\n",
      "+----------+-------------------+\n",
      "|Winchester|3.11390344611695E-5|\n",
      "+----------+-------------------+\n",
      "\n"
     ]
    }
   ],
   "source": [
    "\"\"\"\n",
    "Question 3.2: Comparing each geography's female-to-male ratio measurements in 2013 vs 2016, which \n",
    "changed the most? Which changed the least?\n",
    "\"\"\"\n",
    "\n",
    "# Pivot Sex for 2013 and 2016, create columns with 2013 F-M Ratio, 2016 F-M Ratio, and the Delta\n",
    "pop_ratio_delta_df = cleaned_pop_df \\\n",
    "    .select(\"Geography\", \"Sex\", \"2013\", \"2016\") \\\n",
    "    .groupBy(\"Geography\") \\\n",
    "    .pivot(\"Sex\") \\\n",
    "    .sum(\"2013\", \"2016\") \\\n",
    "    .withColumn(\"2013 Ratio\", F.col(\"Female_sum(2013)\") / F.col(\"Male_sum(2013)\")) \\\n",
    "    .withColumn(\"2016 Ratio\", F.col(\"Female_sum(2016)\") / F.col(\"Male_sum(2016)\")) \\\n",
    "    .withColumn(\"2013 vs 2016 Delta\", F.abs(F.col(\"2013 Ratio\") - F.col(\"2016 Ratio\"))) \\\n",
    "\n",
    "# Most change would be largest ratio delta\n",
    "pop_ratio_delta_df \\\n",
    "    .select(\"Geography\", \"2013 vs 2016 Delta\") \\\n",
    "    .orderBy(F.desc(\"2013 vs 2016 Delta\")) \\\n",
    "    .limit(1) \\\n",
    "    .show()\n",
    "\n",
    "# Least change would be lowest ratio delta\n",
    "pop_ratio_delta_df \\\n",
    "    .select(\"Geography\", \"2013 vs 2016 Delta\") \\\n",
    "    .orderBy(F.asc(\"2013 vs 2016 Delta\")) \\\n",
    "    .limit(1) \\\n",
    "    .show()\n",
    "\n",
    "# Geography with female-to-male ratio that changed the most: Moray with delta=0.0674442377540787\n",
    "# Geography with female-to-male ratio that changed the least: Winchester with delta=3.11390344611695E-5"
   ]
  },
  {
   "cell_type": "code",
   "execution_count": 7,
   "id": "12a95faa",
   "metadata": {
    "scrolled": true
   },
   "outputs": [
    {
     "data": {
      "text/plain": [
       "'\\nQuestion 4.2: What are the anomalies? Describe the factors that could account for anomalies\\n    Anomaly 1: 90 year olds \\n    Factors: This is because we are lumping all 90+ into one Age bin\\n\\n    Anomaly 2: Massive spike in population Age around 75 during a steady decline in population in this Age range\\n    Factors: Older people who want to retire probably go to these places because they are peaceful\\n\\n    Anomaly 3: Dips in teen and mid-life years\\n    Factors: People leave these areas to travel other parts of the world\\n'"
      ]
     },
     "execution_count": 7,
     "metadata": {},
     "output_type": "execute_result"
    },
    {
     "data": {
      "image/png": "[encoded data removed]",
      "text/plain": [
       "<Figure size 432.125x360 with 1 Axes>"
      ]
     },
     "metadata": {
      "needs_background": "light"
     },
     "output_type": "display_data"
    }
   ],
   "source": [
    "\"\"\"\n",
    "Question 4.1: Plot a visualization of the 2016 age distribution split out by sex\n",
    "\"\"\"\n",
    "\n",
    "# First, we calculate the distribution by Sex amd Age in 2016\n",
    "# We convert it to a pandas dataframe to be used with seaborn plots\n",
    "age_dist_2016_pandas_df = cleaned_pop_df \\\n",
    "    .select(\"Age\", \"Sex\", \"2016\") \\\n",
    "    .where(\"Sex in ('Male', 'Female')\") \\\n",
    "    .groupBy(\"Age\", \"Sex\") \\\n",
    "    .agg(F.sum(\"2016\").alias(\"Total Pop by Age 2016\")) \\\n",
    "    .orderBy(F.desc(\"Age\")) \\\n",
    "    .toPandas()\n",
    "\n",
    "# Second, we use seaborn to perform catplot to 'split-out' Male dist and Female dist\n",
    "sns.catplot(data=age_dist_2016_pandas_df, x='Age', y='Total Pop by Age 2016', hue='Sex')\n",
    "\n",
    "\"\"\"\n",
    "Question 4.2: What are the anomalies? Describe the factors that could account for anomalies\n",
    "    Anomaly 1: 90 year olds \n",
    "    Factors: This is because we are lumping all 90+ into one Age bin\n",
    "\n",
    "    Anomaly 2: Massive spike in population Age around 75 during a steady decline in population in this Age range\n",
    "    Factors: Older people who want to retire probably go to these places because they are peaceful\n",
    "\n",
    "    Anomaly 3: Dips in teen and mid-life years\n",
    "    Factors: People leave these areas to travel other parts of the world\n",
    "\"\"\""
   ]
  },
  {
   "cell_type": "code",
   "execution_count": 8,
   "id": "8f4ea99f",
   "metadata": {},
   "outputs": [
    {
     "name": "stdout",
     "output_type": "stream",
     "text": [
      "+--------------------+--------------+--------------+\n",
      "|           Geography|Total Pop 2013|Total Pop 2013|\n",
      "+--------------------+--------------+--------------+\n",
      "|           Worcester|        100405|        100405|\n",
      "|           Charnwood|        170645|        170645|\n",
      "|      North Kesteven|        109814|        109814|\n",
      "|                Arun|        152818|        152818|\n",
      "|       Epping Forest|        127170|        127170|\n",
      "|             Waveney|        115962|        115962|\n",
      "|              Stroud|        113920|        113920|\n",
      "|              Maldon|         62166|         62166|\n",
      "|          New Forest|        178062|        178062|\n",
      "|           Sedgemoor|        117544|        117544|\n",
      "| Ards and North Down|        157640|        157640|\n",
      "|           Guildford|        141009|        141009|\n",
      "|            Worthing|        106117|        106117|\n",
      "|             Fareham|        113614|        113614|\n",
      "|         Oxfordshire|        666197|        666197|\n",
      "|              Bolton|        280057|        280057|\n",
      "|Central Bedfordshire|        264528|        264528|\n",
      "|      North Tyneside|        202152|        202152|\n",
      "|        Surrey Heath|         86904|         86904|\n",
      "|      Wellingborough|         75958|         75958|\n",
      "+--------------------+--------------+--------------+\n",
      "only showing top 20 rows\n",
      "\n"
     ]
    }
   ],
   "source": [
    "\"\"\"\n",
    "Question 4.2: The UK population is getting older over time, but according to this dataset, that is not\n",
    "the case everywhere across the UK. Investigate:\n",
    "    1. Which geographies have a particularly high or low proportion of over 65s between 2013-2016?\n",
    "\n",
    "    2. Which geographies show the largest change in proportion of over-65s between 2013-2016?\n",
    "\n",
    "    3. Are your numerical results realistic?\n",
    "\n",
    "    4. What factors could explain the outliers?\n",
    "\n",
    "\"\"\"\n",
    "# TODO: Filter the second aggregate sum\n",
    "cleaned_pop_df \\\n",
    "    .select(\"Geography\", \"Age\", \"2013\", \"2014\", \"2015\", \"2016\") \\\n",
    "    .where(\"Sex in ('All') \") \\\n",
    "    .groupBy(\"Geography\") \\\n",
    "    .agg(F.sum(\"2013\").alias(\"Total Pop 2013\"), F.sum(\"2013\").alias(\"Total Pop 2013\")) \\\n",
    "    .show()\n"
   ]
  }
 ],
 "metadata": {
  "kernelspec": {
   "display_name": "Python 3 (ipykernel)",
   "language": "python",
   "name": "python3"
  },
  "language_info": {
   "codemirror_mode": {
    "name": "ipython",
    "version": 3
   },
   "file_extension": ".py",
   "mimetype": "text/x-python",
   "name": "python",
   "nbconvert_exporter": "python",
   "pygments_lexer": "ipython3",
   "version": "3.8.10"
  }
 },
 "nbformat": 4,
 "nbformat_minor": 5
}
